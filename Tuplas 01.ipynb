{
 "cells": [
  {
   "cell_type": "markdown",
   "metadata": {},
   "source": [
    "# Tuplas\n",
    "\n",
    "### Estrutura:\n",
    "\n",
    "tupla = (valor, valor, valor, ...)\n",
    "\n",
    "### Diferença\n",
    "\n",
    "Parece uma lista, mas é imutável.\n",
    "\n",
    "### Vantagens:\n",
    "\n",
    "- Mais eficiente (em termos de performance)\n",
    "- Protege a base de dados (por ser imutável)\n",
    "- Muito usado para dados heterogêneos\n",
    "\n",
    "### Criando tuplas"
   ]
  },
  {
   "cell_type": "code",
   "execution_count": 11,
   "metadata": {},
   "outputs": [
    {
     "name": "stdout",
     "output_type": "stream",
     "text": [
      "('Leandro', '19/05/2022', '21/07/1995', 2000, 'Estagiário') Colaborador \n"
     ]
    }
   ],
   "source": [
    "contratação = ('Leandro', '19/05/2022', '21/07/1995', 2000, 'Estagiário')\n",
    "print('{} Colaborador '.format(contratação))"
   ]
  },
  {
   "cell_type": "markdown",
   "metadata": {},
   "source": [
    "### Acessando o valor de uma tupla"
   ]
  },
  {
   "cell_type": "code",
   "execution_count": 35,
   "metadata": {},
   "outputs": [
    {
     "name": "stdout",
     "output_type": "stream",
     "text": [
      "Funcionário: chama-se Leandro, data de contratação 19/05/2022,a data de nascimento 21/07/1995, o valor de seu salário inicial 2,000.00, função atual Estagiário.\n"
     ]
    }
   ],
   "source": [
    "i = 0\n",
    "#nomes intuitivos.\n",
    "nome = contratação[0]\n",
    "data_contratacao = contratação[1]\n",
    "data_nascimento = contratação[2]\n",
    "salario = contratação[3]\n",
    "cargo = contratação[4]\n",
    "print(f'Funcionário: chama-se {nome}, data de contratação {data_contratacao},a data de nascimento {data_nascimento}, o valor de seu salário inicial {salario:,.2f}, função atual {cargo}.')\n",
    "\n",
    "\n",
    "\n"
   ]
  }
 ],
 "metadata": {
  "kernelspec": {
   "display_name": "Python 3 (ipykernel)",
   "language": "python",
   "name": "python3"
  },
  "language_info": {
   "codemirror_mode": {
    "name": "ipython",
    "version": 3
   },
   "file_extension": ".py",
   "mimetype": "text/x-python",
   "name": "python",
   "nbconvert_exporter": "python",
   "pygments_lexer": "ipython3",
   "version": "3.9.7"
  }
 },
 "nbformat": 4,
 "nbformat_minor": 4
}
