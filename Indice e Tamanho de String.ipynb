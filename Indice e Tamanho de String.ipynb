{
 "cells": [
  {
   "cell_type": "raw",
   "metadata": {},
   "source": [
    "0 1 2 3 4 5 6 7 8 9 10 11 12 13\n",
    "l e a d @ g m a i l  .  c  o m\n",
    "\n",
    "Pegar um item de uma string: texto[índice]\n",
    "Pegar o tamanho de um texto: len(texto)"
   ]
  },
  {
   "cell_type": "code",
   "execution_count": 8,
   "metadata": {},
   "outputs": [
    {
     "name": "stdout",
     "output_type": "stream",
     "text": [
      "15\n",
      "@\n",
      "L\n"
     ]
    }
   ],
   "source": [
    "email = 'lead@gmail.com'\n",
    "nome = 'Leandro Ribeiro'\n",
    "# len conta o total da string\n",
    "# indice [] → pega o caractere pelo numero acima\n",
    "print(len(nome))\n",
    "print(email[4])\n",
    "print(nome[0])"
   ]
  },
  {
   "cell_type": "markdown",
   "metadata": {},
   "source": [
    "-14 -13 -11 -10 -9 -8 -7 -6 -5 -4 -3 -2 -1\n",
    " l   e   a   d  @   g  m  a  i  l . c o  m\n"
   ]
  },
  {
   "cell_type": "code",
   "execution_count": 11,
   "metadata": {},
   "outputs": [
    {
     "name": "stdout",
     "output_type": "stream",
     "text": [
      "tamanho do e-mail 14 caracteres\n"
     ]
    }
   ],
   "source": [
    "print('tamanho do e-mail ' + str(len(email)) + ' caracteres')"
   ]
  }
 ],
 "metadata": {
  "kernelspec": {
   "display_name": "Python 3",
   "language": "python",
   "name": "python3"
  },
  "language_info": {
   "codemirror_mode": {
    "name": "ipython",
    "version": 3
   },
   "file_extension": ".py",
   "mimetype": "text/x-python",
   "name": "python",
   "nbconvert_exporter": "python",
   "pygments_lexer": "ipython3",
   "version": "3.8.8"
  }
 },
 "nbformat": 4,
 "nbformat_minor": 4
}
