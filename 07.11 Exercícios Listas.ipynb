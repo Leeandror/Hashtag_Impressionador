{
 "cells": [
  {
   "cell_type": "markdown",
   "metadata": {},
   "source": [
    "# Exercícios\n",
    "\n",
    "## 1. Mudança de Carga Tributária\n",
    "\n",
    "- Reformas e mudanças de cargas tributárias são bem comuns no Brasil.\n",
    "\n",
    "Digamos que você trabalhe em uma empresa de ecommerce\n",
    "\n",
    "No Brasil, o imposto sobre livros é zerado. De um ano para o outro, o governo criou um novo imposto que incide em 10% sobre o valor dos livros e agora você precisa alterar o registro dos preços dos livros da empresa para garantir que esse imposto vai ser repassado para o preço final do produto.\n",
    "\n",
    "Crie um código que recalcule o valor do livro da sua lista de produtos e ajuste na tabela.\n",
    "\n",
    "Além disso, calcule qual vai ser o impacto financeiro da criação desse imposto para a empresa (ou seja, quanto que o imposto vai aumentar de custo para a empresa)\n",
    "\n",
    "Obs: para facilitar, colocamos apenas 1 livro na lista, mas em breve vamos aprender um for que vai adaptar esse cenário para qualquer quantidade de livros na sua lista.\n",
    "\n",
    "Obs2: Seu código deve funcionar mesmo que não haja livros na lista de produtos da empresa"
   ]
  },
  {
   "cell_type": "code",
   "execution_count": 56,
   "metadata": {},
   "outputs": [
    {
     "name": "stdout",
     "output_type": "stream",
     "text": [
      "Vamos pagar de imposto a mais: R$200,000.0 \n",
      "-=-=-=-=-=-=-=-=-=-=-=-=-=-=-=-=-=-=-=-=-=-=-=-=-=-=-=-=-=-=-=-=-=-=-=-=-=-=-=-=-=-=-=-=-=-=-=-=-=-=\n",
      "7\n",
      "[3300, 700]\n",
      "R$:2,310,000\n",
      "O valor antigo é de R$:2,310,000 e após a atualização de 15%, R$346,500.0\n",
      "O valor inicial é R$2,310,000, este é o valor em %15 R$346,500.0. Somando o valor inicial + 15% R$2,656,500.0\n",
      "-=-=-=-=-=-=-=-=-=-=-=-=-=-=-=-=-=-=-=-=-=-=-=-=-=-=-=-=-=-=-=-=-=-=-=-=-=-=-=-=-=-=-=-=-=-=-=-=-=-=\n",
      "5\n",
      "[7200, 2500]\n",
      "Valor atual R$:18,000,000\n",
      "Valor atual R$:18,000,000 e após a atualização de 15%,R$:19,800,000.0\n",
      "O Valor inicial foi de R$:18,000,000, O valor após aplicar 10% R$19,800,000.0 e o valor em 10% R$:1,800,000.0\n"
     ]
    }
   ],
   "source": [
    "produtos = ['computador', 'livro', 'tablet', 'celular', 'tv', 'ar condicionado', 'alexa', 'máquina de café', 'kindle']\n",
    "\n",
    "#cada item da lista dos produtos corresponde a quantidade de vendas no mês e preço, nessa ordem\n",
    "produtos_ecommerce = [\n",
    "    [10000, 2500],\n",
    "    [50000, 40],\n",
    "    [7000, 1200],\n",
    "    [20000, 1500],\n",
    "    [5800, 1300],\n",
    "    [7200, 2500],\n",
    "    [200, 800],\n",
    "    [3300, 700],\n",
    "    [1900, 400]\n",
    "]\n",
    "\n",
    "if 'livro' in produtos:\n",
    "    i_livro = produtos.index('livro')\n",
    "    total_antigo = produtos_ecommerce[i_livro][0] * produtos_ecommerce[i_livro][1]\n",
    "    produtos_ecommerce[i_livro][1] = produtos_ecommerce[i_livro][1] * 1.1\n",
    "    novo_total = produtos_ecommerce[i_livro][0] * produtos_ecommerce[i_livro][1]\n",
    "    print('Vamos pagar de imposto a mais: R${:,} '.format(novo_total - total_antigo))\n",
    "\n",
    "print('-=' * 50)\n",
    "\n",
    "if 'máquina de café' in produtos: #verifico na lista produtos se existe 'maquina de cafe'\n",
    "    i_maquina_café = produtos.index('máquina de café') #crio a variável e procuro na lista a posição da maquina pelo index\n",
    "    print(i_maquina_café) #imprimo na tela a posição do item selecionado\n",
    "    print(produtos_ecommerce[i_maquina_café]) #procuro na lista de valores 'produtos_ecommerce' a mesma posição do indice café\n",
    "    valor_atual_maquina_cafe = produtos_ecommerce[i_maquina_café][0] * produtos_ecommerce[i_maquina_café][1] # lista 7, procuro elemento posição 0 e 1 3300,00, 700\n",
    "    print('R$:{:,}'.format(valor_atual_maquina_cafe)) #Imprime o valor atual\n",
    "    total_porcetagem = produtos_ecommerce[i_maquina_café][0] * produtos_ecommerce[i_maquina_café][1] * 0.15  #Nova variavel para sabermos a % 15%\n",
    "    print('O valor antigo é de R$:{:,} e após a atualização de 15%, R${:,}'.format(valor_atual_maquina_cafe, total_porcetagem)) #descubro o valor em porcentagem\n",
    "    novo_total = produtos_ecommerce[i_maquina_café][0] * produtos_ecommerce[i_maquina_café][1]  # somo o antigo total + a % 15%\n",
    "    print('O valor inicial é R${:,}, este é o valor em %15 R${:,}. Somando o valor inicial + 15% R${:,}'.format(valor_atual_maquina_cafe, total_porcetagem, novo_total + total_porcetagem)) #imprimo o valor total com as respectivas variáveis\n",
    "\n",
    "print('-=' * 50)\n",
    "if 'ar condicionado' in produtos:\n",
    "    i_ar_cond = produtos.index('ar condicionado')\n",
    "    print(i_ar_cond)\n",
    "    i_ar_cond = produtos.index('ar condicionado')\n",
    "    print(produtos_ecommerce[i_ar_cond])\n",
    "    antigo_valor_ar = produtos_ecommerce[i_ar_cond][0] * produtos_ecommerce[i_ar_cond][1]\n",
    "    print('Valor atual R$:{:,}'.format(antigo_valor_ar))\n",
    "    total_porcentagem_ar = produtos_ecommerce[i_ar_cond][0] * produtos_ecommerce[i_ar_cond][1] * 1.1\n",
    "    print('Valor atual R$:{:,} e após a atualização de 15%,R$:{:,}'.format(antigo_valor_ar, total_porcentagem_ar))\n",
    "    somente_porcentagem = produtos_ecommerce[i_ar_cond][0] * produtos_ecommerce[i_ar_cond][1]\n",
    "    print('O Valor inicial foi de R$:{:,}, O valor após aplicar 10% R${:,} e o valor em 10% R$:{:,}'.format(antigo_valor_ar,total_porcentagem_ar ,total_porcentagem_ar - somente_porcentagem))\n",
    "    \n"
   ]
  }
 ],
 "metadata": {
  "kernelspec": {
   "display_name": "Python 3 (ipykernel)",
   "language": "python",
   "name": "python3"
  },
  "language_info": {
   "codemirror_mode": {
    "name": "ipython",
    "version": 3
   },
   "file_extension": ".py",
   "mimetype": "text/x-python",
   "name": "python",
   "nbconvert_exporter": "python",
   "pygments_lexer": "ipython3",
   "version": "3.9.7"
  }
 },
 "nbformat": 4,
 "nbformat_minor": 4
}
