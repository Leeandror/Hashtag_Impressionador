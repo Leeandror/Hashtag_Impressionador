{
 "cells": [
  {
   "cell_type": "code",
   "execution_count": 1,
   "id": "6ce9e0bd",
   "metadata": {},
   "outputs": [
    {
     "name": "stdout",
     "output_type": "stream",
     "text": [
      "Enter the first number: 15\n",
      "Enter the second number: 20\n",
      "The smaller number is:  15\n"
     ]
    }
   ],
   "source": [
    "def smaller_num():\n",
    "    x=int(input('Enter the first number: '))\n",
    "    y=int(input('Enter the second number: '))\n",
    "    if x<y:\n",
    "        return x\n",
    "    else:\n",
    "        return y\n",
    "print('The smaller number is: ',smaller_num())"
   ]
  }
 ],
 "metadata": {
  "kernelspec": {
   "display_name": "Python 3",
   "language": "python",
   "name": "python3"
  },
  "language_info": {
   "codemirror_mode": {
    "name": "ipython",
    "version": 3
   },
   "file_extension": ".py",
   "mimetype": "text/x-python",
   "name": "python",
   "nbconvert_exporter": "python",
   "pygments_lexer": "ipython3",
   "version": "3.8.8"
  }
 },
 "nbformat": 4,
 "nbformat_minor": 5
}
