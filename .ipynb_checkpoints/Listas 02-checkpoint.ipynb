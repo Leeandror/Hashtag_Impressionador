{
 "cells": [
  {
   "cell_type": "markdown",
   "metadata": {},
   "source": [
    "# Listas em Python\n",
    "\n",
    "## Estrutura:\n",
    "\n",
    "lista = [valor, valor, valor, valor, ...]\n",
    "\n",
    "lista[i] -> é o valor de índice i da lista. <br>\n",
    "Obs: Lembre que no python o índice começa em 0, então o primeiro item de uma lista é o item lista[0]\n",
    "\n",
    "Para substituir um valor de uma lista você pode fazer:<br>\n",
    "lista[i] = novo_valor\n",
    "\n",
    "Listas de Produtos de uma Loja:"
   ]
  },
  {
   "cell_type": "code",
   "execution_count": 31,
   "metadata": {},
   "outputs": [
    {
     "name": "stdout",
     "output_type": "stream",
     "text": [
      "5\n",
      "['tv', 'celular', 'mouse', 'teclado', 'tablet']\n",
      "['tv', 'celular', 'mouse', 'teclado']\n"
     ]
    }
   ],
   "source": [
    "produtos = ['tv', 'celular', 'mouse', 'teclado', 'tablet']\n",
    "print(len(produtos))\n",
    "print(produtos[:5])\n",
    "print(produtos[0:4])\n"
   ]
  },
  {
   "cell_type": "markdown",
   "metadata": {},
   "source": [
    "Lista de Unidades Vendidas de cada Produto da Loja"
   ]
  },
  {
   "cell_type": "code",
   "execution_count": 33,
   "metadata": {},
   "outputs": [
    {
     "name": "stdout",
     "output_type": "stream",
     "text": [
      "1500\n"
     ]
    }
   ],
   "source": [
    "vendas = [1000, 1500, 350, 270, 900]\n",
    "print(vendas[1])"
   ]
  },
  {
   "cell_type": "markdown",
   "metadata": {},
   "source": [
    "### Nesse caso, as listas funcionam da seguinte forma:"
   ]
  },
  {
   "cell_type": "raw",
   "metadata": {},
   "source": [
    "produtos = ['tv', 'celular', 'mouse', 'teclado', 'tablet']\n",
    "              0 ,      1   ,    2   ,     3    ,     4   \n",
    "vendas = [  1000,    1500  ,   350  ,    270   ,    900  ]"
   ]
  },
  {
   "cell_type": "code",
   "execution_count": 35,
   "metadata": {},
   "outputs": [
    {
     "name": "stdout",
     "output_type": "stream",
     "text": [
      "Vendas do produto tv foram de 1000 unidades\n",
      "Vendas do produto celular foram de 1500 unidades\n",
      "Vendas do produto mouse foram de 350 unidades\n",
      "Vendas do produto teclado foram de 250 unidades\n",
      "Vendas do produto tablet foram de 900 unidades\n"
     ]
    }
   ],
   "source": [
    "vendas[3] = 250\n",
    "print('Vendas do produto {} foram de {} unidades'.format(produtos[0], vendas[0]))  #produtos indice pega i = indice 0 de produtos\n",
    "print('Vendas do produto {} foram de {} unidades'.format(produtos[1], vendas[1]))  #vendas indice pega i = indice 0 de vendas\n",
    "print('Vendas do produto {} foram de {} unidades'.format(produtos[2], vendas[2]))\n",
    "print('Vendas do produto {} foram de {} unidades'.format(produtos[3], vendas[3]))\n",
    "print('Vendas do produto {} foram de {} unidades'.format(produtos[4], vendas[4]))"
   ]
  },
  {
   "cell_type": "code",
   "execution_count": 44,
   "metadata": {},
   "outputs": [
    {
     "name": "stdout",
     "output_type": "stream",
     "text": [
      "Leandro\n",
      "Leandro\n"
     ]
    }
   ],
   "source": [
    "texto = 'Leandro'\n",
    "print(texto)\n",
    "n = texto\n",
    "n.replace('Leandro', 'Leandra')\n",
    "print(n)"
   ]
  }
 ],
 "metadata": {
  "kernelspec": {
   "display_name": "Python 3",
   "language": "python",
   "name": "python3"
  },
  "language_info": {
   "codemirror_mode": {
    "name": "ipython",
    "version": 3
   },
   "file_extension": ".py",
   "mimetype": "text/x-python",
   "name": "python",
   "nbconvert_exporter": "python",
   "pygments_lexer": "ipython3",
   "version": "3.8.8"
  }
 },
 "nbformat": 4,
 "nbformat_minor": 4
}
