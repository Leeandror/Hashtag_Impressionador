{
 "cells": [
  {
   "cell_type": "markdown",
   "id": "a48e4016",
   "metadata": {},
   "source": [
    "### 1) Faça função que calcule a área do trapézio, dados:\n",
    "\n",
    "a) Base maior\n",
    "\n",
    "b) Base menor\n",
    "\n",
    "c) Altura\n",
    "\n",
    "Lembrando que a área pode ser calculada por: O programa principal deve pedir os valores e usar a função para calcular a área."
   ]
  },
  {
   "cell_type": "code",
   "execution_count": null,
   "id": "e204e612",
   "metadata": {},
   "outputs": [],
   "source": [
    "print('\\033[34m-' * 60)\n",
    "print('Bem vindo ao sistema de calculo de trapézio, qual o seu nome?')\n",
    "while True:\n",
    "    nome = str(input('Digite o seu primeiro nome: ')).strip().title()\n",
    "    if nome.isalpha():\n",
    "        print(f'→ Obrigado {nome}, abaixo digite as informações desejada para realizar o calculo :)')\n",
    "        break\n",
    "    else:\n",
    "        print('Digite o seu nome corretamente!')\n",
    "print('\\033[31m')\n",
    "print(f'''{nome}, Para calcular a área do trapézio, é importante você se atentar as seguintes informações:\n",
    "Para calcular a área de um trapézio basta somar a base maior e base menor, multiplicar pela altura e depois,\n",
    "basta dividir o resultado por dois.''')\n",
    "print('\\033[34mVamos lá!')\n",
    "base_maior = float(input('Digite o maior valor: '))\n",
    "base_menor = float(input('Digite o menor valor: '))\n",
    "altura = float(input('Digite a altura: '))\n",
    "area = (base_maior + base_menor) * altura\n",
    "resultado = area / 2\n",
    "print(f'{nome}, o valor maior digitado foi {base_maior:.2f}, o menor valor digitado foi {base_menor:.2f}'\n",
    "      f' a altura digitada foi {altura:.2f} e o resultado do calculo foi {resultado:.1f}.')"
   ]
  },
  {
   "cell_type": "markdown",
   "id": "3f666040",
   "metadata": {},
   "source": [
    "### 2) Faça um programa em Python com uma função chamada somaImposto. A função \n",
    "possui dois parâmetros formais:\n",
    "\n",
    "a) taxaImposto, que é a quantia de imposto sobre vendas expressa em porcentagem; e \n",
    "\n",
    "b) custo, que é o custo de um item antes do imposto. A função \"altera\" o valor de custo para incluir o imposto sobre vendas.\n",
    "\n",
    "O programa principal deve pedir os dados e usar a função para calcular preço do produto\n"
   ]
  },
  {
   "cell_type": "code",
   "execution_count": 7,
   "id": "91f5e2af",
   "metadata": {},
   "outputs": [
    {
     "name": "stdout",
     "output_type": "stream",
     "text": [
      "Digite a taxa de imposto \"Apenas os números em %\": 15\n",
      "Digite o valor do produto R$: 20\n"
     ]
    },
    {
     "ename": "NameError",
     "evalue": "name 'taxaImposto' is not defined",
     "output_type": "error",
     "traceback": [
      "\u001b[1;31m---------------------------------------------------------------------------\u001b[0m",
      "\u001b[1;31mNameError\u001b[0m                                 Traceback (most recent call last)",
      "\u001b[1;32m<ipython-input-7-b4e48b3ea198>\u001b[0m in \u001b[0;36m<module>\u001b[1;34m\u001b[0m\n\u001b[0;32m     10\u001b[0m \u001b[0mvalo_produto\u001b[0m \u001b[1;33m=\u001b[0m \u001b[0mfloat\u001b[0m\u001b[1;33m(\u001b[0m\u001b[0minput\u001b[0m\u001b[1;33m(\u001b[0m\u001b[1;34m'Digite o valor do produto R$: '\u001b[0m\u001b[1;33m)\u001b[0m\u001b[1;33m)\u001b[0m\u001b[1;33m\u001b[0m\u001b[1;33m\u001b[0m\u001b[0m\n\u001b[0;32m     11\u001b[0m print('A taxa de imposto foi{:.1%}, o valor do produto foi R$:{:.2f}, o valor do imposto sobre o produto R${:.2f}\\n'\n\u001b[1;32m---> 12\u001b[1;33m       'O valor final do produto com a soma do imposto é de R${:.2f}'.format(somaImposto(taxaImposto, valorProduto. custoPorcentagem, valorFinal)))\n\u001b[0m\u001b[0;32m     13\u001b[0m \u001b[1;33m\u001b[0m\u001b[0m\n",
      "\u001b[1;31mNameError\u001b[0m: name 'taxaImposto' is not defined"
     ]
    }
   ],
   "source": [
    "#def function\n",
    "def somaImposto():\n",
    "    taxaImposto = 0\n",
    "    valorProduto = 0\n",
    "    custoPorcentagem = taxaImposto * valorProduto / 100\n",
    "    valorFinal = custoPorcentagem\n",
    "    return valorFinal\n",
    "\n",
    "taxa_imposto = float(input('Digite a taxa de imposto \"Apenas os números em %\": '))\n",
    "valo_produto = float(input('Digite o valor do produto R$: '))\n",
    "print('A taxa de imposto foi{:.1%}, o valor do produto foi R$:{:.2f}, o valor do imposto sobre o produto R${:.2f}\\n'\n",
    "      'O valor final do produto com a soma do imposto é de R${:.2f}'.format(somaImposto(taxaImposto, valorProduto. custoPorcentagem, valorFinal)))\n",
    "    "
   ]
  },
  {
   "cell_type": "code",
   "execution_count": 25,
   "id": "8f6d0476",
   "metadata": {},
   "outputs": [
    {
     "name": "stdout",
     "output_type": "stream",
     "text": [
      "Digite o valor do imposto sem \"%\" e \",\" : 15\n",
      "15.0%\n",
      "Digite o valor do produto R$: 20\n",
      "O valor do imposto foi 15.0 e o valor do produto foi R$20.00\n",
      "\u001b[34mAbaixo o retorno da function \"somaImposto\"\n"
     ]
    },
    {
     "ename": "NameError",
     "evalue": "name 'taxaImposto' is not defined",
     "output_type": "error",
     "traceback": [
      "\u001b[1;31m---------------------------------------------------------------------------\u001b[0m",
      "\u001b[1;31mNameError\u001b[0m                                 Traceback (most recent call last)",
      "\u001b[1;32m<ipython-input-25-57b83468a6e2>\u001b[0m in \u001b[0;36m<module>\u001b[1;34m\u001b[0m\n\u001b[0;32m      5\u001b[0m \u001b[0mprint\u001b[0m\u001b[1;33m(\u001b[0m\u001b[1;34m'O valor do imposto foi {:.1f} e o valor do produto foi R${:.2f}'\u001b[0m\u001b[1;33m.\u001b[0m\u001b[0mformat\u001b[0m\u001b[1;33m(\u001b[0m\u001b[0mnum_imposto\u001b[0m\u001b[1;33m,\u001b[0m \u001b[0mvalor_produto\u001b[0m\u001b[1;33m)\u001b[0m\u001b[1;33m)\u001b[0m\u001b[1;33m\u001b[0m\u001b[1;33m\u001b[0m\u001b[0m\n\u001b[0;32m      6\u001b[0m \u001b[0mprint\u001b[0m\u001b[1;33m(\u001b[0m\u001b[1;34m'\\033[34mAbaixo o retorno da function \"somaImposto\"'\u001b[0m\u001b[1;33m)\u001b[0m\u001b[1;33m\u001b[0m\u001b[1;33m\u001b[0m\u001b[0m\n\u001b[1;32m----> 7\u001b[1;33m \u001b[0mprint\u001b[0m\u001b[1;33m(\u001b[0m\u001b[1;34m'{}'\u001b[0m\u001b[1;33m.\u001b[0m\u001b[0mformat\u001b[0m\u001b[1;33m(\u001b[0m\u001b[0msomaImposto\u001b[0m\u001b[1;33m(\u001b[0m\u001b[0mtaxaImposto\u001b[0m\u001b[1;33m,\u001b[0m \u001b[0mvalorProduto\u001b[0m\u001b[1;33m,\u001b[0m \u001b[0mcustoPorcentagem\u001b[0m\u001b[1;33m,\u001b[0m \u001b[0mvalorFinal\u001b[0m\u001b[1;33m)\u001b[0m\u001b[1;33m)\u001b[0m\u001b[1;33m)\u001b[0m\u001b[1;33m\u001b[0m\u001b[1;33m\u001b[0m\u001b[0m\n\u001b[0m",
      "\u001b[1;31mNameError\u001b[0m: name 'taxaImposto' is not defined"
     ]
    }
   ],
   "source": [
    "#Programa principal\n",
    "num_imposto = float(input('\\033[34mDigite o valor do imposto sem \"%\" e \",\" : '))\n",
    "print('{:.1f}%'.format(num_imposto))\n",
    "valor_produto = float(input('Digite o valor do produto R$: '))\n",
    "print('O valor do imposto foi {:.1f} e o valor do produto foi R${:.2f}'.format(num_imposto, valor_produto))\n",
    "print('\\033[34mAbaixo o retorno da function \"somaImposto\"')\n",
    "print('{}'.format(somaImposto(taxaImposto, valorProduto, custoPorcentagem, valorFinal)))"
   ]
  }
 ],
 "metadata": {
  "kernelspec": {
   "display_name": "Python 3",
   "language": "python",
   "name": "python3"
  },
  "language_info": {
   "codemirror_mode": {
    "name": "ipython",
    "version": 3
   },
   "file_extension": ".py",
   "mimetype": "text/x-python",
   "name": "python",
   "nbconvert_exporter": "python",
   "pygments_lexer": "ipython3",
   "version": "3.8.8"
  }
 },
 "nbformat": 4,
 "nbformat_minor": 5
}
