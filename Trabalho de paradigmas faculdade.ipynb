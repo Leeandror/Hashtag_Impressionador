{
 "cells": [
  {
   "cell_type": "markdown",
   "id": "a48e4016",
   "metadata": {},
   "source": [
    "### 1) Faça função que calcule a área do trapézio, dados:\n",
    "\n",
    "a) Base maior\n",
    "\n",
    "b) Base menor\n",
    "\n",
    "c) Altura\n",
    "\n",
    "Lembrando que a área pode ser calculada por: O programa principal deve pedir os valores e usar a função para calcular a área."
   ]
  },
  {
   "cell_type": "code",
   "execution_count": null,
   "id": "e204e612",
   "metadata": {},
   "outputs": [],
   "source": [
    "print('\\033[34m-' * 60)\n",
    "print('Bem vindo ao sistema de calculo de trapézio, qual o seu nome?')\n",
    "while True:\n",
    "    nome = str(input('Digite o seu primeiro nome: ')).strip().title()\n",
    "    if nome.isalpha():\n",
    "        print(f'→ Obrigado {nome}, abaixo digite as informações desejada para realizar o calculo :)')\n",
    "        break\n",
    "    else:\n",
    "        print('Digite o seu nome corretamente!')\n",
    "print('\\033[31m')\n",
    "print(f'''{nome}, Para calcular a área do trapézio, é importante você se atentar as seguintes informações:\n",
    "Para calcular a área de um trapézio basta somar a base maior e base menor, multiplicar pela altura e depois,\n",
    "basta dividir o resultado por dois.''')\n",
    "print('\\033[34mVamos lá!')\n",
    "base_maior = float(input('Digite o maior valor: '))\n",
    "base_menor = float(input('Digite o menor valor: '))\n",
    "altura = float(input('Digite a altura: '))\n",
    "area = (base_maior + base_menor) * altura\n",
    "resultado = area / 2\n",
    "print(f'{nome}, o valor maior digitado foi {base_maior:.2f}, o menor valor digitado foi {base_menor:.2f}'\n",
    "      f'a altura digitada foi {altura:.2f} e o resultado do calculo foi {resultado:.1f}.')"
   ]
  },
  {
   "cell_type": "markdown",
   "id": "3f666040",
   "metadata": {},
   "source": [
    "### 2) Faça um programa em Python com uma função chamada somaImposto. A função \n",
    "possui dois parâmetros formais:\n",
    "\n",
    "a) taxaImposto, que é a quantia de imposto sobre vendas expressa em porcentagem; e \n",
    "\n",
    "b) custo, que é o custo de um item antes do imposto. A função \"altera\" o valor de custo para incluir o imposto sobre vendas.\n",
    "\n",
    "O programa principal deve pedir os dados e usar a função para calcular preço do produto\n"
   ]
  },
  {
   "cell_type": "code",
   "execution_count": 16,
   "id": "91f5e2af",
   "metadata": {},
   "outputs": [],
   "source": [
    "def somaImposto():\n",
    "    taxaImposto = float(input('Digite a taxa de imposto em %: '))    \n",
    "    valorProduto = float(input('Digite o valor do produto: '))\n",
    "    resultado = valorProduto * taxaImposto / 100\n",
    "    mensagem = print(f'\\033[34mO valor do produto foi R$:{valorProduto:.2f}\\n'\n",
    "                     f'O valor do imposto digitado foi R$: {taxaImposto:.2f}\\n'\n",
    "                     f'O resultado final foi R$:{taxaImposto+valorProduto:.2f}')\n",
    "    return ''"
   ]
  },
  {
   "cell_type": "code",
   "execution_count": 25,
   "id": "8f6d0476",
   "metadata": {},
   "outputs": [
    {
     "name": "stdout",
     "output_type": "stream",
     "text": [
      "Digite a taxa de imposto em %: 15\n",
      "Digite o valor do produto: 2000\n",
      "\u001b[34mO valor do produto foi R$:2000.00\n",
      "O valor do imposto digitado foi R$: 15.00\n",
      "O resultado final foi R$:2015.00\n",
      "\n",
      "Deseja continuar? [S/N]\n",
      "q\n",
      "Opção inválida, por favor verifique a opção escolhida e tente novamente!\n",
      "Digite a taxa de imposto em %: w\n"
     ]
    },
    {
     "ename": "ValueError",
     "evalue": "could not convert string to float: 'w'",
     "output_type": "error",
     "traceback": [
      "\u001b[1;31m---------------------------------------------------------------------------\u001b[0m",
      "\u001b[1;31mValueError\u001b[0m                                Traceback (most recent call last)",
      "\u001b[1;32m~\\AppData\\Local\\Temp/ipykernel_6912/3729408145.py\u001b[0m in \u001b[0;36m<module>\u001b[1;34m\u001b[0m\n\u001b[0;32m      1\u001b[0m \u001b[1;32mwhile\u001b[0m \u001b[1;32mTrue\u001b[0m\u001b[1;33m:\u001b[0m\u001b[1;33m\u001b[0m\u001b[1;33m\u001b[0m\u001b[0m\n\u001b[1;32m----> 2\u001b[1;33m     \u001b[0mtaxa_imposto\u001b[0m \u001b[1;33m=\u001b[0m \u001b[0msomaImposto\u001b[0m\u001b[1;33m(\u001b[0m\u001b[1;33m)\u001b[0m\u001b[1;33m\u001b[0m\u001b[1;33m\u001b[0m\u001b[0m\n\u001b[0m\u001b[0;32m      3\u001b[0m     \u001b[0mprint\u001b[0m\u001b[1;33m(\u001b[0m\u001b[0mtaxa_imposto\u001b[0m\u001b[1;33m)\u001b[0m\u001b[1;33m\u001b[0m\u001b[1;33m\u001b[0m\u001b[0m\n\u001b[0;32m      4\u001b[0m     \u001b[0mcontinuar\u001b[0m \u001b[1;33m=\u001b[0m \u001b[0mstr\u001b[0m\u001b[1;33m(\u001b[0m\u001b[0minput\u001b[0m\u001b[1;33m(\u001b[0m\u001b[1;34m'Deseja continuar? [S/N]\\n'\u001b[0m\u001b[1;33m)\u001b[0m\u001b[1;33m)\u001b[0m\u001b[1;33m[\u001b[0m\u001b[1;36m0\u001b[0m\u001b[1;33m]\u001b[0m\u001b[1;33m\u001b[0m\u001b[1;33m\u001b[0m\u001b[0m\n\u001b[0;32m      5\u001b[0m     \u001b[1;32mif\u001b[0m \u001b[0mcontinuar\u001b[0m \u001b[1;33m==\u001b[0m \u001b[1;34m'Ss'\u001b[0m\u001b[1;33m:\u001b[0m\u001b[1;33m\u001b[0m\u001b[1;33m\u001b[0m\u001b[0m\n",
      "\u001b[1;32m~\\AppData\\Local\\Temp/ipykernel_6912/84006799.py\u001b[0m in \u001b[0;36msomaImposto\u001b[1;34m()\u001b[0m\n\u001b[0;32m      1\u001b[0m \u001b[1;32mdef\u001b[0m \u001b[0msomaImposto\u001b[0m\u001b[1;33m(\u001b[0m\u001b[1;33m)\u001b[0m\u001b[1;33m:\u001b[0m\u001b[1;33m\u001b[0m\u001b[1;33m\u001b[0m\u001b[0m\n\u001b[1;32m----> 2\u001b[1;33m     \u001b[0mtaxaImposto\u001b[0m \u001b[1;33m=\u001b[0m \u001b[0mfloat\u001b[0m\u001b[1;33m(\u001b[0m\u001b[0minput\u001b[0m\u001b[1;33m(\u001b[0m\u001b[1;34m'Digite a taxa de imposto em %: '\u001b[0m\u001b[1;33m)\u001b[0m\u001b[1;33m)\u001b[0m\u001b[1;33m\u001b[0m\u001b[1;33m\u001b[0m\u001b[0m\n\u001b[0m\u001b[0;32m      3\u001b[0m     \u001b[0mvalorProduto\u001b[0m \u001b[1;33m=\u001b[0m \u001b[0mfloat\u001b[0m\u001b[1;33m(\u001b[0m\u001b[0minput\u001b[0m\u001b[1;33m(\u001b[0m\u001b[1;34m'Digite o valor do produto: '\u001b[0m\u001b[1;33m)\u001b[0m\u001b[1;33m)\u001b[0m\u001b[1;33m\u001b[0m\u001b[1;33m\u001b[0m\u001b[0m\n\u001b[0;32m      4\u001b[0m     \u001b[0mresultado\u001b[0m \u001b[1;33m=\u001b[0m \u001b[0mvalorProduto\u001b[0m \u001b[1;33m*\u001b[0m \u001b[0mtaxaImposto\u001b[0m \u001b[1;33m/\u001b[0m \u001b[1;36m100\u001b[0m\u001b[1;33m\u001b[0m\u001b[1;33m\u001b[0m\u001b[0m\n\u001b[0;32m      5\u001b[0m     mensagem = print(f'\\033[34mO valor do produto foi R$:{valorProduto:.2f}\\n'\n",
      "\u001b[1;31mValueError\u001b[0m: could not convert string to float: 'w'"
     ]
    }
   ],
   "source": [
    "while True:\n",
    "    taxa_imposto = somaImposto()\n",
    "    print(taxa_imposto)\n",
    "    continuar = str(input('Deseja continuar? [S/N]\\n'))[0]\n",
    "    if continuar == 'Ss':\n",
    "        print(soma_imposto)\n",
    "    elif continuar == 'Nn':\n",
    "        print('Encerrando o programa!')\n",
    "        break\n",
    "    elif continuar != 'Ss' or continuar != 'Nn':\n",
    "        print('Opção inválida, por favor verifique a opção escolhida e tente novamente!')\n",
    "\n",
    "            \n"
   ]
  }
 ],
 "metadata": {
  "kernelspec": {
   "display_name": "Python 3 (ipykernel)",
   "language": "python",
   "name": "python3"
  },
  "language_info": {
   "codemirror_mode": {
    "name": "ipython",
    "version": 3
   },
   "file_extension": ".py",
   "mimetype": "text/x-python",
   "name": "python",
   "nbconvert_exporter": "python",
   "pygments_lexer": "ipython3",
   "version": "3.9.7"
  }
 },
 "nbformat": 4,
 "nbformat_minor": 5
}
